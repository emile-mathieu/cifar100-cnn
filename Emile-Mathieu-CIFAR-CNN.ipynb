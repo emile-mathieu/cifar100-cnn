{
  "cells": [
    {
      "cell_type": "code",
      "execution_count": null,
      "metadata": {
        "id": "WwX2kPDoEypy"
      },
      "outputs": [],
      "source": [
        "# Emile Mathieu CIFAR-CNN\n",
        "import torch\n",
        "import torch.nn as nn\n",
        "import torch.nn.functional as F\n",
        "import torchvision\n",
        "import torchvision.transforms as transforms\n",
        "from torch.utils.data import DataLoader\n",
        "import matplotlib.pyplot as plt"
      ]
    },
    {
      "cell_type": "code",
      "execution_count": null,
      "metadata": {
        "colab": {
          "base_uri": "https://localhost:8080/"
        },
        "id": "qcvfR0tVF6sw",
        "outputId": "f1549766-80cf-4929-d8dc-42ddd95563bc"
      },
      "outputs": [
        {
          "name": "stdout",
          "output_type": "stream",
          "text": [
            "Downloading https://www.cs.toronto.edu/~kriz/cifar-100-python.tar.gz to ./data/cifar-100-python.tar.gz\n"
          ]
        },
        {
          "name": "stderr",
          "output_type": "stream",
          "text": [
            "100%|██████████| 169M/169M [00:03<00:00, 54.5MB/s]\n"
          ]
        },
        {
          "name": "stdout",
          "output_type": "stream",
          "text": [
            "Extracting ./data/cifar-100-python.tar.gz to ./data\n"
          ]
        }
      ],
      "source": [
        "train_dataset = torchvision.datasets.CIFAR100(\n",
        "    root='./data', train=True, download=True,\n",
        "    transform=transforms.ToTensor()\n",
        ")"
      ]
    },
    {
      "cell_type": "code",
      "execution_count": null,
      "metadata": {
        "id": "VAB4CxfMGaFZ"
      },
      "outputs": [],
      "source": [
        "# We need to initializae a trainer loader to iterate over our dataset to get std and mean\n",
        "train_loader = torch.utils.data.DataLoader(train_dataset, batch_size=128, shuffle=False)"
      ]
    },
    {
      "cell_type": "code",
      "execution_count": null,
      "metadata": {
        "colab": {
          "base_uri": "https://localhost:8080/"
        },
        "id": "PM2iMsKrZPQ3",
        "outputId": "7e70e635-7c2c-4911-fdd1-92068d7add48"
      },
      "outputs": [
        {
          "name": "stdout",
          "output_type": "stream",
          "text": [
            "torch.Size([3, 32, 32])\n"
          ]
        }
      ],
      "source": [
        "img_shape = train_dataset[0][0].shape\n",
        "print(img_shape)"
      ]
    },
    {
      "cell_type": "code",
      "execution_count": null,
      "metadata": {
        "colab": {
          "base_uri": "https://localhost:8080/"
        },
        "id": "fnU06_CJGh3v",
        "outputId": "528c4131-2f44-4c68-9456-e64ba3054391"
      },
      "outputs": [
        {
          "name": "stdout",
          "output_type": "stream",
          "text": [
            "Calculated Mean: tensor([0.5071, 0.4865, 0.4409])\n",
            "Calculated Std: tensor([0.2669, 0.2560, 0.2756])\n"
          ]
        }
      ],
      "source": [
        "# Compute mean and std over the entire dataset\n",
        "mean = 0.0\n",
        "std = 0.0\n",
        "for images, _ in train_loader:\n",
        "    # images shape: (batch_size, 3, 32, 32)\n",
        "    batch_samples = images.size(0)\n",
        "    # Compute mean per batch\n",
        "    mean += images.mean([0, 2, 3]) * batch_samples\n",
        "    std += images.std([0, 2, 3]) * batch_samples\n",
        "\n",
        "num_samples = len(train_loader.dataset)\n",
        "mean /= num_samples\n",
        "std /= num_samples\n",
        "\n",
        "print(\"Calculated Mean:\", mean)\n",
        "print(\"Calculated Std:\", std)\n"
      ]
    },
    {
      "cell_type": "code",
      "execution_count": null,
      "metadata": {
        "id": "BlWYSoTkLt37"
      },
      "outputs": [],
      "source": [
        "# Mean and std are acquired so we define a transform that enables normalization\n",
        "#Add normalization transforms\n",
        "train_dataset = torchvision.datasets.CIFAR100(\n",
        "    root='./data', train=True, download=False,\n",
        "    transform=transforms.Compose([\n",
        "    transforms.RandomHorizontalFlip(),\n",
        "    transforms.ToTensor(),\n",
        "    transforms.Normalize(mean=mean, std=std)])\n",
        ")\n",
        "\n",
        "test_dataset = torchvision.datasets.CIFAR100(\n",
        "    root='./data', train=False, download=False,\n",
        "    transform=transforms.Compose([\n",
        "    transforms.ToTensor(),\n",
        "    transforms.Normalize(mean=mean, std=std)])\n",
        ")\n",
        "\n",
        "#Our loaders\n",
        "train_loader = torch.utils.data.DataLoader(train_dataset, batch_size=128, shuffle=True)\n",
        "test_loader = torch.utils.data.DataLoader(test_dataset, batch_size=128, shuffle=False)"
      ]
    },
    {
      "cell_type": "code",
      "execution_count": null,
      "metadata": {
        "id": "9-dz9sZhVotx"
      },
      "outputs": [],
      "source": [
        "#I am building a simple model based on a Lab I did on CNN's.\n",
        "class AdvancedLabModel(nn.Module):\n",
        "    def __init__(self, num_classes=100):\n",
        "        super(AdvancedLabModel, self).__init__()\n",
        "        self.conv1 = nn.Conv2d(3, 32, kernel_size=3, padding=1)\n",
        "        self.conv2 = nn.Conv2d(32, 64, kernel_size=3, padding=1)\n",
        "        self.conv3 = nn.Conv2d(64, 128, kernel_size=3, padding=1)\n",
        "\n",
        "        # Added batch normalization to stabilize learning process:\n",
        "        # https://pytorch.org/docs/stable/generated/torch.nn.BatchNorm2d.html\n",
        "        self.bn1 = nn.BatchNorm2d(32)\n",
        "        self.bn2 = nn.BatchNorm2d(64)\n",
        "        self.bn3 = nn.BatchNorm2d(128)\n",
        "\n",
        "\n",
        "        self.fc = nn.Linear(128 * 4 * 4, num_classes)\n",
        "\n",
        "        # Added dropout:\n",
        "        #https://pytorch.org/docs/stable/generated/torch.nn.Dropout.html\n",
        "        self.dropout = nn.Dropout(0.5)\n",
        "\n",
        "    # This setup has Convolution -> ReLU -> MaxPool\n",
        "    def forward(self, x):\n",
        "        x = F.relu(self.conv1(x))\n",
        "        # Added also batch normalization.\n",
        "        x = self.bn1(x)\n",
        "        x = F.max_pool2d(x, 2)\n",
        "\n",
        "        x = F.relu(self.conv2(x))\n",
        "         # Added also batch normalization.\n",
        "        x = self.bn2(x)\n",
        "        x = F.max_pool2d(x, 2)\n",
        "\n",
        "        x = F.relu(self.conv3(x))\n",
        "        # Added also batch normalization,\n",
        "        x = self.bn3(x)\n",
        "        x = F.max_pool2d(x, 2)\n",
        "\n",
        "        x = x.view(-1, 128 * 4 * 4)\n",
        "\n",
        "        # Added dropout for better results:\n",
        "        # https://pytorch.org/docs/stable/generated/torch.nn.Dropout.html\n",
        "        x = self.dropout(x)\n",
        "        x = self.fc(x)\n",
        "        return x"
      ]
    },
    {
      "cell_type": "code",
      "execution_count": null,
      "metadata": {
        "id": "EaMY2xnMWZ84"
      },
      "outputs": [],
      "source": [
        "criterion = nn.CrossEntropyLoss()\n",
        "model = AdvancedLabModel().to(torch.device('cuda'))\n",
        "use_gpu = torch.device('cuda')\n",
        "optimizer = torch.optim.SGD(model.parameters(), lr=0.01, momentum=0.9)"
      ]
    },
    {
      "cell_type": "code",
      "execution_count": null,
      "metadata": {
        "id": "TycqSgTzaP6R"
      },
      "outputs": [],
      "source": [
        "def train(model, train_loader, optimizer, criterion, use_gpu):\n",
        "    model.train()\n",
        "    running_loss = 0.0\n",
        "    correct = 0\n",
        "    total = 0\n",
        "\n",
        "    for images, labels in train_loader:\n",
        "        # Move data to gpu\n",
        "        images, labels = images.to(use_gpu), labels.to(use_gpu)\n",
        "\n",
        "        # Reset gradients\n",
        "        optimizer.zero_grad()\n",
        "\n",
        "        # Forward pass\n",
        "        outputs = model(images)\n",
        "        loss = criterion(outputs, labels)\n",
        "\n",
        "        # Backward pass and parameter update\n",
        "        loss.backward()\n",
        "        optimizer.step()\n",
        "\n",
        "        # Update metrics\n",
        "        running_loss, correct, total = metrics(loss, outputs, labels, images, running_loss, correct, total)\n",
        "\n",
        "    # Compute final training loss and accuracy\n",
        "    train_loss = running_loss / total\n",
        "    train_acc = correct / total\n",
        "    return train_loss, train_acc\n",
        "\n",
        "def test(model, test_loader, criterion, use_gpu):\n",
        "    model.eval()\n",
        "    running_loss = 0.0\n",
        "    correct = 0\n",
        "    total = 0\n",
        "    with torch.no_grad():\n",
        "        for images, labels in test_loader:\n",
        "            images, labels = images.to(use_gpu), labels.to(use_gpu)\n",
        "            outputs = model(images)\n",
        "            loss = criterion(outputs, labels)\n",
        "            running_loss += loss.item()*images.size(0)\n",
        "            _, predicted = outputs.max(1)\n",
        "            total += labels.size(0)\n",
        "            correct += predicted.eq(labels).sum().item()\n",
        "\n",
        "    test_loss = running_loss/total\n",
        "    test_acc = correct/total\n",
        "    return test_loss, test_acc"
      ]
    },
    {
      "cell_type": "code",
      "execution_count": null,
      "metadata": {
        "colab": {
          "base_uri": "https://localhost:8080/"
        },
        "id": "BlCr9HV4aYGC",
        "outputId": "3efe8155-5116-489d-e5b1-826a0a0c5d97"
      },
      "outputs": [
        {
          "name": "stdout",
          "output_type": "stream",
          "text": [
            "Epoch 1/10\n",
            "Train Loss: 3.6249 | Train Acc: 19.26%\n",
            "Test Loss: 2.7828 | Test Acc: 31.03%\n",
            "\n",
            "Epoch 2/10\n",
            "Train Loss: 2.7150 | Train Acc: 32.82%\n",
            "Test Loss: 2.3598 | Test Acc: 40.08%\n",
            "\n",
            "Epoch 3/10\n",
            "Train Loss: 2.3925 | Train Acc: 38.86%\n",
            "Test Loss: 2.2043 | Test Acc: 43.12%\n",
            "\n",
            "Epoch 4/10\n",
            "Train Loss: 2.2037 | Train Acc: 43.24%\n",
            "Test Loss: 2.1172 | Test Acc: 45.11%\n",
            "\n",
            "Epoch 5/10\n",
            "Train Loss: 2.0870 | Train Acc: 45.46%\n",
            "Test Loss: 2.0070 | Test Acc: 47.48%\n",
            "\n",
            "Epoch 6/10\n",
            "Train Loss: 1.9951 | Train Acc: 47.84%\n",
            "Test Loss: 1.9353 | Test Acc: 49.68%\n",
            "\n",
            "Epoch 7/10\n",
            "Train Loss: 1.9109 | Train Acc: 49.48%\n",
            "Test Loss: 1.9087 | Test Acc: 49.99%\n",
            "\n",
            "Epoch 8/10\n",
            "Train Loss: 1.8496 | Train Acc: 50.53%\n",
            "Test Loss: 1.8577 | Test Acc: 51.38%\n",
            "\n",
            "Epoch 9/10\n",
            "Train Loss: 1.7961 | Train Acc: 52.15%\n",
            "Test Loss: 1.8511 | Test Acc: 51.57%\n",
            "\n",
            "Epoch 10/10\n",
            "Train Loss: 1.7473 | Train Acc: 53.29%\n",
            "Test Loss: 1.7937 | Test Acc: 52.57%\n",
            "\n"
          ]
        }
      ],
      "source": [
        "num_epochs = 10\n",
        "train_losses, train_accuracies = [], []\n",
        "test_losses, test_accuracies = [], []\n",
        "\n",
        "for epoch in range(num_epochs):\n",
        "    train_loss, train_acc = train(model, train_loader, optimizer, criterion, use_gpu)\n",
        "    test_loss, test_acc = test(model, test_loader, criterion, use_gpu)\n",
        "\n",
        "    train_losses.append(train_loss)\n",
        "    train_accuracies.append(train_acc)\n",
        "    test_losses.append(test_loss)\n",
        "    test_accuracies.append(test_acc)\n",
        "\n",
        "    print(f\"Epoch {epoch+1}/{num_epochs}\")\n",
        "    print(f\"Train Loss: {train_loss:.4f} | Train Acc: {train_acc*100:.2f}%\")\n",
        "    print(f\"Test Loss: {test_loss:.4f} | Test Acc: {test_acc*100:.2f}%\\n\")"
      ]
    },
    {
      "cell_type": "code",
      "execution_count": null,
      "metadata": {
        "colab": {
          "base_uri": "https://localhost:8080/",
          "height": 341
        },
        "id": "AHvNOrkzbSKq",
        "outputId": "28b3b63a-7fe7-4dea-ba5c-f239b7935dd5"
      },
      "outputs": [
        {
          "data": {
            "image/png": "[encoded data removed]",
            "text/plain": [
              "<Figure size 1200x400 with 2 Axes>"
            ]
          },
          "metadata": {},
          "output_type": "display_data"
        }
      ],
      "source": [
        "plt.figure(figsize=(12,4))\n",
        "plt.subplot(1,2,1)\n",
        "plt.plot(train_losses, label='Train Loss')\n",
        "plt.plot(test_losses, label='Test Loss')\n",
        "plt.title('Loss Over Epochs')\n",
        "plt.xlabel('Epoch')\n",
        "plt.ylabel('Loss')\n",
        "plt.legend()\n",
        "\n",
        "plt.subplot(1,2,2)\n",
        "plt.plot(train_accuracies, label='Train Accuracy')\n",
        "plt.plot(test_accuracies, label='Test Accuracy')\n",
        "plt.title('Accuracy Over Epochs')\n",
        "plt.xlabel('Epoch')\n",
        "plt.ylabel('Accuracy')\n",
        "plt.legend()\n",
        "plt.show()"
      ]
    }
  ],
  "metadata": {
    "accelerator": "GPU",
    "colab": {
      "gpuType": "T4",
      "provenance": []
    },
    "kernelspec": {
      "display_name": "Python 3",
      "name": "python3"
    },
    "language_info": {
      "name": "python"
    }
  },
  "nbformat": 4,
  "nbformat_minor": 0
}
